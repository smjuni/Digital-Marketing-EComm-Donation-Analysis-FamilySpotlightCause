{
 "cells": [
  {
   "cell_type": "code",
   "execution_count": 1,
   "id": "44560041-7302-49f3-b05e-033c729cc8b4",
   "metadata": {},
   "outputs": [
    {
     "data": {
      "text/html": [
       "<div>\n",
       "<style scoped>\n",
       "    .dataframe tbody tr th:only-of-type {\n",
       "        vertical-align: middle;\n",
       "    }\n",
       "\n",
       "    .dataframe tbody tr th {\n",
       "        vertical-align: top;\n",
       "    }\n",
       "\n",
       "    .dataframe thead th {\n",
       "        text-align: right;\n",
       "    }\n",
       "</style>\n",
       "<table border=\"1\" class=\"dataframe\">\n",
       "  <thead>\n",
       "    <tr style=\"text-align: right;\">\n",
       "      <th></th>\n",
       "      <th>Date</th>\n",
       "      <th>Campaign Name</th>\n",
       "      <th>Ad Name</th>\n",
       "      <th>Order ID</th>\n",
       "    </tr>\n",
       "  </thead>\n",
       "  <tbody>\n",
       "    <tr>\n",
       "      <th>0</th>\n",
       "      <td>2025-06-11</td>\n",
       "      <td>FY25_Q2_Traffic_Search_BOF_Activists</td>\n",
       "      <td>Cuddles_500x500_NA_Reused</td>\n",
       "      <td>84405</td>\n",
       "    </tr>\n",
       "    <tr>\n",
       "      <th>1</th>\n",
       "      <td>2025-05-03</td>\n",
       "      <td>FY25_Q2_LeadGen_Display_TOF_Charitables</td>\n",
       "      <td>Smile _1x1_30s_New</td>\n",
       "      <td>85373</td>\n",
       "    </tr>\n",
       "    <tr>\n",
       "      <th>2</th>\n",
       "      <td>2025-06-23</td>\n",
       "      <td>FY25_Q2_Retargeting_Display_BOF_Charitables</td>\n",
       "      <td>Cuddles_1080x1080_NA_Reused</td>\n",
       "      <td>23396</td>\n",
       "    </tr>\n",
       "    <tr>\n",
       "      <th>3</th>\n",
       "      <td>2025-07-09</td>\n",
       "      <td>FY25_Q3_Traffic_Display_TOF_Activists</td>\n",
       "      <td>Smile _900x300_NA_New</td>\n",
       "      <td>21207</td>\n",
       "    </tr>\n",
       "    <tr>\n",
       "      <th>4</th>\n",
       "      <td>2025-04-10</td>\n",
       "      <td>FY25_Q2_Engagement_Social_MOF_Cart-Abandon</td>\n",
       "      <td>Smile _1080x1080_NA_New</td>\n",
       "      <td>51199</td>\n",
       "    </tr>\n",
       "  </tbody>\n",
       "</table>\n",
       "</div>"
      ],
      "text/plain": [
       "        Date                                Campaign Name  \\\n",
       "0 2025-06-11         FY25_Q2_Traffic_Search_BOF_Activists   \n",
       "1 2025-05-03      FY25_Q2_LeadGen_Display_TOF_Charitables   \n",
       "2 2025-06-23  FY25_Q2_Retargeting_Display_BOF_Charitables   \n",
       "3 2025-07-09        FY25_Q3_Traffic_Display_TOF_Activists   \n",
       "4 2025-04-10   FY25_Q2_Engagement_Social_MOF_Cart-Abandon   \n",
       "\n",
       "                       Ad Name  Order ID  \n",
       "0    Cuddles_500x500_NA_Reused     84405  \n",
       "1           Smile _1x1_30s_New     85373  \n",
       "2  Cuddles_1080x1080_NA_Reused     23396  \n",
       "3        Smile _900x300_NA_New     21207  \n",
       "4      Smile _1080x1080_NA_New     51199  "
      ]
     },
     "execution_count": 1,
     "metadata": {},
     "output_type": "execute_result"
    }
   ],
   "source": [
    "import pandas as pd\n",
    "\n",
    "join_df = pd.read_excel(\"Dataset for Joiningv2.xlsx\")\n",
    "\n",
    "join_df.head()"
   ]
  },
  {
   "cell_type": "code",
   "execution_count": 2,
   "id": "152736ea-2e6d-4dd9-b3ba-c1775f86397e",
   "metadata": {},
   "outputs": [
    {
     "name": "stdout",
     "output_type": "stream",
     "text": [
      "Date             0\n",
      "Campaign Name    0\n",
      "Ad Name          0\n",
      "Order ID         0\n",
      "dtype: int64\n"
     ]
    }
   ],
   "source": [
    "nan_values_count = pd.isnull(join_df).sum()\n",
    "print(nan_values_count)"
   ]
  },
  {
   "cell_type": "code",
   "execution_count": 3,
   "id": "7332447f-f1bb-48cc-810f-029b9febd64b",
   "metadata": {},
   "outputs": [
    {
     "data": {
      "text/plain": [
       "Date             datetime64[ns]\n",
       "Campaign Name            object\n",
       "Ad Name                  object\n",
       "Order ID                  int64\n",
       "dtype: object"
      ]
     },
     "execution_count": 3,
     "metadata": {},
     "output_type": "execute_result"
    }
   ],
   "source": [
    "join_df.dtypes"
   ]
  },
  {
   "cell_type": "code",
   "execution_count": 4,
   "id": "389e7b03-3897-4163-9efc-47bfb586e671",
   "metadata": {},
   "outputs": [
    {
     "data": {
      "text/html": [
       "<div>\n",
       "<style scoped>\n",
       "    .dataframe tbody tr th:only-of-type {\n",
       "        vertical-align: middle;\n",
       "    }\n",
       "\n",
       "    .dataframe tbody tr th {\n",
       "        vertical-align: top;\n",
       "    }\n",
       "\n",
       "    .dataframe thead th {\n",
       "        text-align: right;\n",
       "    }\n",
       "</style>\n",
       "<table border=\"1\" class=\"dataframe\">\n",
       "  <thead>\n",
       "    <tr style=\"text-align: right;\">\n",
       "      <th></th>\n",
       "      <th>Date</th>\n",
       "      <th>Campaign Name</th>\n",
       "      <th>Ad Name</th>\n",
       "      <th>Order ID</th>\n",
       "    </tr>\n",
       "  </thead>\n",
       "  <tbody>\n",
       "    <tr>\n",
       "      <th>0</th>\n",
       "      <td>2025-06-11</td>\n",
       "      <td>FY25_Q2_Traffic_Search_BOF_Activists</td>\n",
       "      <td>Cuddles_500x500_NA_Reused</td>\n",
       "      <td>84405</td>\n",
       "    </tr>\n",
       "    <tr>\n",
       "      <th>1</th>\n",
       "      <td>2025-05-03</td>\n",
       "      <td>FY25_Q2_LeadGen_Display_TOF_Charitables</td>\n",
       "      <td>Smile _1x1_30s_New</td>\n",
       "      <td>85373</td>\n",
       "    </tr>\n",
       "    <tr>\n",
       "      <th>2</th>\n",
       "      <td>2025-06-23</td>\n",
       "      <td>FY25_Q2_Retargeting_Display_BOF_Charitables</td>\n",
       "      <td>Cuddles_1080x1080_NA_Reused</td>\n",
       "      <td>23396</td>\n",
       "    </tr>\n",
       "    <tr>\n",
       "      <th>3</th>\n",
       "      <td>2025-07-09</td>\n",
       "      <td>FY25_Q3_Traffic_Display_TOF_Activists</td>\n",
       "      <td>Smile _900x300_NA_New</td>\n",
       "      <td>21207</td>\n",
       "    </tr>\n",
       "    <tr>\n",
       "      <th>4</th>\n",
       "      <td>2025-04-10</td>\n",
       "      <td>FY25_Q2_Engagement_Social_MOF_Cart-Abandon</td>\n",
       "      <td>Smile _1080x1080_NA_New</td>\n",
       "      <td>51199</td>\n",
       "    </tr>\n",
       "  </tbody>\n",
       "</table>\n",
       "</div>"
      ],
      "text/plain": [
       "        Date                                Campaign Name  \\\n",
       "0 2025-06-11         FY25_Q2_Traffic_Search_BOF_Activists   \n",
       "1 2025-05-03      FY25_Q2_LeadGen_Display_TOF_Charitables   \n",
       "2 2025-06-23  FY25_Q2_Retargeting_Display_BOF_Charitables   \n",
       "3 2025-07-09        FY25_Q3_Traffic_Display_TOF_Activists   \n",
       "4 2025-04-10   FY25_Q2_Engagement_Social_MOF_Cart-Abandon   \n",
       "\n",
       "                       Ad Name Order ID  \n",
       "0    Cuddles_500x500_NA_Reused    84405  \n",
       "1           Smile _1x1_30s_New    85373  \n",
       "2  Cuddles_1080x1080_NA_Reused    23396  \n",
       "3        Smile _900x300_NA_New    21207  \n",
       "4      Smile _1080x1080_NA_New    51199  "
      ]
     },
     "execution_count": 4,
     "metadata": {},
     "output_type": "execute_result"
    }
   ],
   "source": [
    "# Convert Order ID to string\n",
    "join_df['Order ID'] = join_df['Order ID'].astype(str)\n",
    "join_df.head()"
   ]
  },
  {
   "cell_type": "code",
   "execution_count": 5,
   "id": "aed61ad2-b5c1-4135-9d10-9055ba8105aa",
   "metadata": {},
   "outputs": [
    {
     "name": "stdout",
     "output_type": "stream",
     "text": [
      "100\n",
      "Index(['Date', 'Campaign Name', 'Ad Name', 'Order ID'], dtype='object')\n"
     ]
    }
   ],
   "source": [
    "print(len(join_df))\n",
    "print(join_df.columns)"
   ]
  },
  {
   "cell_type": "code",
   "execution_count": 6,
   "id": "fab2e9a8-2260-4ee6-b16c-a020f90473d3",
   "metadata": {},
   "outputs": [
    {
     "data": {
      "text/html": [
       "<div>\n",
       "<style scoped>\n",
       "    .dataframe tbody tr th:only-of-type {\n",
       "        vertical-align: middle;\n",
       "    }\n",
       "\n",
       "    .dataframe tbody tr th {\n",
       "        vertical-align: top;\n",
       "    }\n",
       "\n",
       "    .dataframe thead th {\n",
       "        text-align: right;\n",
       "    }\n",
       "</style>\n",
       "<table border=\"1\" class=\"dataframe\">\n",
       "  <thead>\n",
       "    <tr style=\"text-align: right;\">\n",
       "      <th></th>\n",
       "      <th>Date</th>\n",
       "      <th>Campaign Name</th>\n",
       "      <th>Ad Name</th>\n",
       "      <th>Order ID</th>\n",
       "    </tr>\n",
       "  </thead>\n",
       "  <tbody>\n",
       "    <tr>\n",
       "      <th>0</th>\n",
       "      <td>2025-06-11</td>\n",
       "      <td>FY25_Q2_Traffic_Search_BOF_Activists</td>\n",
       "      <td>Cuddles_500x500_NA_Reused</td>\n",
       "      <td>84405</td>\n",
       "    </tr>\n",
       "    <tr>\n",
       "      <th>1</th>\n",
       "      <td>2025-05-03</td>\n",
       "      <td>FY25_Q2_LeadGen_Display_TOF_Charitables</td>\n",
       "      <td>Smile _1x1_30s_New</td>\n",
       "      <td>85373</td>\n",
       "    </tr>\n",
       "    <tr>\n",
       "      <th>2</th>\n",
       "      <td>2025-06-23</td>\n",
       "      <td>FY25_Q2_Retargeting_Display_BOF_Charitables</td>\n",
       "      <td>Cuddles_1080x1080_NA_Reused</td>\n",
       "      <td>23396</td>\n",
       "    </tr>\n",
       "    <tr>\n",
       "      <th>3</th>\n",
       "      <td>2025-07-09</td>\n",
       "      <td>FY25_Q3_Traffic_Display_TOF_Activists</td>\n",
       "      <td>Smile _900x300_NA_New</td>\n",
       "      <td>21207</td>\n",
       "    </tr>\n",
       "    <tr>\n",
       "      <th>4</th>\n",
       "      <td>2025-04-10</td>\n",
       "      <td>FY25_Q2_Engagement_Social_MOF_Cart-Abandon</td>\n",
       "      <td>Smile _1080x1080_NA_New</td>\n",
       "      <td>51199</td>\n",
       "    </tr>\n",
       "    <tr>\n",
       "      <th>5</th>\n",
       "      <td>2025-05-10</td>\n",
       "      <td>FY25_Q2_AlwaysOn_Social_TOF_New-Homeowners</td>\n",
       "      <td>Puppy_900x300_NA_Reused</td>\n",
       "      <td>67796</td>\n",
       "    </tr>\n",
       "    <tr>\n",
       "      <th>6</th>\n",
       "      <td>2025-05-06</td>\n",
       "      <td>FY25_Q2_AlwaysOn_Display_MOF_Cart-Abandon</td>\n",
       "      <td>Smile _500x500_NA_New</td>\n",
       "      <td>29180</td>\n",
       "    </tr>\n",
       "    <tr>\n",
       "      <th>7</th>\n",
       "      <td>2025-06-28</td>\n",
       "      <td>FY25_Q2_Conversion_Search_TOF_Proximity-10km</td>\n",
       "      <td>Emergency_1080x1080_NA_Reused</td>\n",
       "      <td>25784</td>\n",
       "    </tr>\n",
       "    <tr>\n",
       "      <th>8</th>\n",
       "      <td>2025-04-27</td>\n",
       "      <td>FY25_Q2_Traffic_Social_BOF_Proximity-50km</td>\n",
       "      <td>Puppy_500x500_NA_Reused</td>\n",
       "      <td>39378</td>\n",
       "    </tr>\n",
       "    <tr>\n",
       "      <th>9</th>\n",
       "      <td>2025-06-05</td>\n",
       "      <td>FY25_Q2_Loyalty_Video_MOF_Pet-Owners</td>\n",
       "      <td>Smile _500x500_NA_New</td>\n",
       "      <td>21762</td>\n",
       "    </tr>\n",
       "  </tbody>\n",
       "</table>\n",
       "</div>"
      ],
      "text/plain": [
       "        Date                                 Campaign Name  \\\n",
       "0 2025-06-11          FY25_Q2_Traffic_Search_BOF_Activists   \n",
       "1 2025-05-03       FY25_Q2_LeadGen_Display_TOF_Charitables   \n",
       "2 2025-06-23   FY25_Q2_Retargeting_Display_BOF_Charitables   \n",
       "3 2025-07-09         FY25_Q3_Traffic_Display_TOF_Activists   \n",
       "4 2025-04-10    FY25_Q2_Engagement_Social_MOF_Cart-Abandon   \n",
       "5 2025-05-10    FY25_Q2_AlwaysOn_Social_TOF_New-Homeowners   \n",
       "6 2025-05-06     FY25_Q2_AlwaysOn_Display_MOF_Cart-Abandon   \n",
       "7 2025-06-28  FY25_Q2_Conversion_Search_TOF_Proximity-10km   \n",
       "8 2025-04-27     FY25_Q2_Traffic_Social_BOF_Proximity-50km   \n",
       "9 2025-06-05          FY25_Q2_Loyalty_Video_MOF_Pet-Owners   \n",
       "\n",
       "                         Ad Name Order ID  \n",
       "0      Cuddles_500x500_NA_Reused    84405  \n",
       "1             Smile _1x1_30s_New    85373  \n",
       "2    Cuddles_1080x1080_NA_Reused    23396  \n",
       "3          Smile _900x300_NA_New    21207  \n",
       "4        Smile _1080x1080_NA_New    51199  \n",
       "5        Puppy_900x300_NA_Reused    67796  \n",
       "6          Smile _500x500_NA_New    29180  \n",
       "7  Emergency_1080x1080_NA_Reused    25784  \n",
       "8        Puppy_500x500_NA_Reused    39378  \n",
       "9          Smile _500x500_NA_New    21762  "
      ]
     },
     "execution_count": 6,
     "metadata": {},
     "output_type": "execute_result"
    }
   ],
   "source": [
    "join_df.head(10)"
   ]
  },
  {
   "cell_type": "code",
   "execution_count": 7,
   "id": "1395d582-bf44-4b16-93d6-2715cabab662",
   "metadata": {},
   "outputs": [],
   "source": [
    "# Import cleaned csv from Step 1\n",
    "cleaned_df = pd.read_csv('Shelter_Donation_Transaction_Breakout.csv')"
   ]
  },
  {
   "cell_type": "code",
   "execution_count": 8,
   "id": "06061118-06ca-4c3d-8bb7-6f4378da90e5",
   "metadata": {},
   "outputs": [
    {
     "data": {
      "text/plain": [
       "Donation Category     object\n",
       "Donation Frequency    object\n",
       "Cause                 object\n",
       "Donation Amounts      object\n",
       "Order ID              object\n",
       "unique_id             object\n",
       "dtype: object"
      ]
     },
     "execution_count": 8,
     "metadata": {},
     "output_type": "execute_result"
    }
   ],
   "source": [
    "# Ensure Data types are compatible (Strings)\n",
    "cleaned_df ['Order ID']= cleaned_df['Order ID'].astype(str)\n",
    "len(cleaned_df)\n",
    "# print(headers)\n",
    "cleaned_df.dtypes"
   ]
  },
  {
   "cell_type": "code",
   "execution_count": 9,
   "id": "1820ee09-518a-47a3-b656-8a08d02fcf6b",
   "metadata": {},
   "outputs": [
    {
     "name": "stdout",
     "output_type": "stream",
     "text": [
      "100\n",
      "                                   Donation Category  \\\n",
      "0                                     Gift Catalogue   \n",
      "1  Donation, Donation, Donation, Gift Catalogue, ...   \n",
      "2  Gift Catalogue, Gift Catalogue, Donation, Dona...   \n",
      "3  Sponsored, Gift Catalogue, Donation, Donation,...   \n",
      "4  Gift Catalogue, Gift Catalogue, Gift Catalogue...   \n",
      "\n",
      "                                  Donation Frequency  \\\n",
      "0                                            Monthly   \n",
      "1  Monthly, One Time, Yearly, Monthly, Yearly, On...   \n",
      "2  One Time, One Time, One Time, One Time, One Ti...   \n",
      "3  One Time, Monthly, One Time, Yearly, Yearly, Y...   \n",
      "4  Yearly, Yearly, One Time, One Time, Monthly, Y...   \n",
      "\n",
      "                                               Cause  \\\n",
      "0                                     Emergency Care   \n",
      "1  Rosie Litter, Emergency Care, Monetary donatio...   \n",
      "2  Towels , Monetary donations or gift cards , Ro...   \n",
      "3  Grooming supplies , Daisy Litter, Cleaning sup...   \n",
      "4  Rosie Litter, Molly Litter, Pet carriers and c...   \n",
      "\n",
      "                                    Donation Amounts  \\\n",
      "0                                                125   \n",
      "1  210, 200, 375, 370, 35, 200, 85, 860, 475, 455...   \n",
      "2  750, 150, 475, 860, 375, 370, 455, 575, 125, 3...   \n",
      "3                   275, 65, 210, 275, 150, 955, 955   \n",
      "4             455, 150, 455, 370, 455, 720, 575, 750   \n",
      "\n",
      "                                            Order ID  \\\n",
      "0                                              84405   \n",
      "1  85373,85373,85373,85373,85373,85373,85373,8537...   \n",
      "2  23396,23396,23396,23396,23396,23396,23396,2339...   \n",
      "3          21207,21207,21207,21207,21207,21207,21207   \n",
      "4    51199,51199,51199,51199,51199,51199,51199,51199   \n",
      "\n",
      "                                           unique_id       Date  \\\n",
      "0                                          84405-1-0 2025-06-11   \n",
      "1  85373,85373,85373,85373,85373,85373,85373,8537...        NaT   \n",
      "2  23396,23396,23396,23396,23396,23396,23396,2339...        NaT   \n",
      "3      21207,21207,21207,21207,21207,21207,21207-1-3        NaT   \n",
      "4  51199,51199,51199,51199,51199,51199,51199,5119...        NaT   \n",
      "\n",
      "                          Campaign Name                    Ad Name  \n",
      "0  FY25_Q2_Traffic_Search_BOF_Activists  Cuddles_500x500_NA_Reused  \n",
      "1                                   NaN                        NaN  \n",
      "2                                   NaN                        NaN  \n",
      "3                                   NaN                        NaN  \n",
      "4                                   NaN                        NaN  \n"
     ]
    }
   ],
   "source": [
    "# join on OrderID\n",
    "merged_df = pd.merge(cleaned_df, join_df, left_on='Order ID', right_on='Order ID', how='left')\n",
    "# Ensure Data types are the same as ind data frame columns\n",
    "# merged_df['DFA Ord Value/Transaction ID']= merged_df['DFA Ord Value/Transaction ID'].astype(str)\n",
    "# make sure that this count is the same as cleaned_df\n",
    "print(len(merged_df)) \n",
    "print(merged_df.head())"
   ]
  },
  {
   "cell_type": "code",
   "execution_count": 10,
   "id": "7fbc3d21-dced-4702-8809-26728fde466a",
   "metadata": {},
   "outputs": [],
   "source": [
    "#Export file\n",
    "merged_df.to_excel('Blended_Transaction_Product_Data.xlsx', index=False)"
   ]
  },
  {
   "cell_type": "code",
   "execution_count": null,
   "id": "11472bc9-ad69-4ebb-ad9f-99c3a3f85488",
   "metadata": {},
   "outputs": [],
   "source": []
  }
 ],
 "metadata": {
  "kernelspec": {
   "display_name": "PythonData",
   "language": "python",
   "name": "pythondata"
  },
  "language_info": {
   "codemirror_mode": {
    "name": "ipython",
    "version": 3
   },
   "file_extension": ".py",
   "mimetype": "text/x-python",
   "name": "python",
   "nbconvert_exporter": "python",
   "pygments_lexer": "ipython3",
   "version": "3.8.19"
  }
 },
 "nbformat": 4,
 "nbformat_minor": 5
}
